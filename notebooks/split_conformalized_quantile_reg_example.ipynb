{
 "cells": [
  {
   "cell_type": "code",
   "execution_count": 1,
   "id": "eccd7eb9",
   "metadata": {},
   "outputs": [],
   "source": [
    "from explainerdashboard.datasets import titanic_fare,titanic_names,feature_descriptions\n",
    "from sklearn.ensemble import RandomForestRegressor\n",
    "\n",
    "X_train, y_train, X_test, y_test = titanic_fare()\n",
    "\n",
    "model = RandomForestRegressor(n_estimators=50, max_depth=5)\n",
    "model.fit(X_train, y_train)\n",
    "\n",
    "train_names, test_names = titanic_names()"
   ]
  },
  {
   "cell_type": "code",
   "execution_count": 2,
   "id": "94125fb0",
   "metadata": {},
   "outputs": [],
   "source": [
    "X_test = X_test.reset_index(drop=True)\n",
    "y_test = y_test.reset_index(drop=True)\n",
    "\n",
    "# --- NOW, THE ORIGINAL FILTERING LOGIC WILL WORK ---\n",
    "\n",
    "# 1. Create a boolean mask from the now-aligned X_test\n",
    "rows_to_keep_mask = X_test['Age'] >= 0\n",
    "\n",
    "# 2. Apply the mask to both. Since their indices are now identical, this will work.\n",
    "X_test = X_test[rows_to_keep_mask]\n",
    "y_test = y_test[rows_to_keep_mask]\n"
   ]
  },
  {
   "cell_type": "code",
   "execution_count": 3,
   "id": "4e37cd6a",
   "metadata": {},
   "outputs": [
    {
     "name": "stdout",
     "output_type": "stream",
     "text": [
      "Changing class type to RandomForestRegressionExplainer...\n",
      "Generating self.shap_explainer = shap.TreeExplainer(model)\n"
     ]
    }
   ],
   "source": [
    "from explainerdashboard import RegressionExplainer,ExplainerDashboard\n",
    "\n",
    "train_names, test_names = titanic_names()\n",
    "\n",
    "test_names = [name for name, keep_flag in zip(test_names, rows_to_keep_mask) if keep_flag]\n",
    "\n",
    "explainer = RegressionExplainer(\n",
    "    model,\n",
    "    X_test,\n",
    "    y_test,\n",
    "    cats=[\"Sex\", \"Deck\", \"Embarked\"],\n",
    "    idxs=test_names,\n",
    "    target=\"Fare\",\n",
    "    descriptions=feature_descriptions,\n",
    "    units=\"$\",\n",
    ")"
   ]
  },
  {
   "cell_type": "code",
   "execution_count": 4,
   "id": "da3d9ba3",
   "metadata": {},
   "outputs": [
    {
     "name": "stdout",
     "output_type": "stream",
     "text": [
      "Building ExplainerDashboard..\n",
      "Detected notebook environment, consider setting mode='external', mode='inline' or mode='jupyterlab' to keep the notebook interactive while the dashboard is running...\n",
      "Generating layout...\n",
      "Calculating shap values...\n",
      "Calculating dependencies...\n",
      "Reminder: you can store the explainer (including calculated dependencies) with explainer.dump('explainer.joblib') and reload with e.g. ClassifierExplainer.from_file('explainer.joblib')\n",
      "Registering callbacks...\n"
     ]
    }
   ],
   "source": [
    "\n",
    "from explainerdashboard.dashboard_components.regression_components import ConformalizedQuantileRegressionComponent\n",
    "\n",
    "# 3. Create dashboard with UncertaintyComposite as the only component\n",
    "dashboard = ExplainerDashboard(\n",
    "    explainer, \n",
    "    tabs=[ConformalizedQuantileRegressionComponent],  # Single tab with uncertainty analysis\n",
    "    title=\"Model Uncertainty Dashboard\",\n",
    "    hide_header=False  # Show header with title\n",
    ")"
   ]
  },
  {
   "cell_type": "code",
   "execution_count": 5,
   "id": "1a9fe1cf",
   "metadata": {},
   "outputs": [
    {
     "name": "stdout",
     "output_type": "stream",
     "text": [
      "Starting ExplainerDashboard on http://192.168.2.91:9002\n"
     ]
    },
    {
     "data": {
      "text/html": [
       "\n",
       "        <iframe\n",
       "            width=\"100%\"\n",
       "            height=\"650\"\n",
       "            src=\"http://127.0.0.1:9002/\"\n",
       "            frameborder=\"0\"\n",
       "            allowfullscreen\n",
       "            \n",
       "        ></iframe>\n",
       "        "
      ],
      "text/plain": [
       "<IPython.lib.display.IFrame at 0x1d67d0eb230>"
      ]
     },
     "metadata": {},
     "output_type": "display_data"
    },
    {
     "name": "stdout",
     "output_type": "stream",
     "text": [
      "Calculating prediction intervals with 90% coverage...\n",
      "Calculating predictions...\n",
      "Calculating prediction intervals with 90% coverage...\n",
      "Calculating prediction intervals with 90% coverage...\n",
      "Calculating prediction intervals with 90% coverage...\n",
      "Calculating prediction intervals with 90% coverage...\n",
      "Calculating prediction intervals with 90% coverage...\n",
      "Calculating prediction intervals with 90% coverage...\n",
      "Calculating prediction intervals with 90% coverage...\n",
      "Calculating prediction intervals with 90% coverage...\n",
      "Calculating prediction intervals with 90% coverage...\n"
     ]
    }
   ],
   "source": [
    "dashboard.run(9002)"
   ]
  },
  {
   "cell_type": "code",
   "execution_count": 7,
   "id": "9b6dfc6e",
   "metadata": {},
   "outputs": [
    {
     "name": "stdout",
     "output_type": "stream",
     "text": [
      "Trying to shut down dashboard on port 9002...\n"
     ]
    }
   ],
   "source": [
    "dashboard.terminate(9002)"
   ]
  },
  {
   "cell_type": "code",
   "execution_count": null,
   "id": "84aab104",
   "metadata": {},
   "outputs": [],
   "source": []
  }
 ],
 "metadata": {
  "kernelspec": {
   "display_name": "base",
   "language": "python",
   "name": "python3"
  },
  "language_info": {
   "codemirror_mode": {
    "name": "ipython",
    "version": 3
   },
   "file_extension": ".py",
   "mimetype": "text/x-python",
   "name": "python",
   "nbconvert_exporter": "python",
   "pygments_lexer": "ipython3",
   "version": "3.13.5"
  }
 },
 "nbformat": 4,
 "nbformat_minor": 5
}
